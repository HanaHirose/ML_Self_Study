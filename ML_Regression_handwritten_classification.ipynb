{
  "nbformat": 4,
  "nbformat_minor": 0,
  "metadata": {
    "colab": {
      "provenance": [],
      "authorship_tag": "ABX9TyP0mJ6CGxu1ACvyeZe0T8Qu",
      "include_colab_link": true
    },
    "kernelspec": {
      "name": "python3",
      "display_name": "Python 3"
    },
    "language_info": {
      "name": "python"
    }
  },
  "cells": [
    {
      "cell_type": "markdown",
      "metadata": {
        "id": "view-in-github",
        "colab_type": "text"
      },
      "source": [
        "<a href=\"https://colab.research.google.com/github/HanaHirose/ML_Self_Study/blob/main/ML_Regression_handwritten_classification.ipynb\" target=\"_parent\"><img src=\"https://colab.research.google.com/assets/colab-badge.svg\" alt=\"Open In Colab\"/></a>"
      ]
    },
    {
      "cell_type": "markdown",
      "source": [
        "### Machine Learning: Logistic Regression\n",
        "\n",
        "## handwritten character classification\n",
        "\n",
        "Use data of \"1\", \"3\", \"7\" from sklearn and try to classify them by logistic regression."
      ],
      "metadata": {
        "id": "AyF4EfMTYnRG"
      }
    },
    {
      "cell_type": "code",
      "source": [
        "import pandas as pd\n",
        "import numpy as np\n",
        "import matplotlib.pyplot as plt\n",
        "from numpy import cos, sin, pi\n",
        "\n",
        "\n",
        "from sklearn.datasets import load_digits\n",
        "from sklearn.linear_model import LogisticRegression # module for logistic regression\n",
        "from sklearn.model_selection import train_test_split # module for splitting data into the one for training and for test\n",
        "from sklearn.preprocessing import StandardScaler # for pre-process. making data as average 0 and variance 1\n"
      ],
      "metadata": {
        "id": "9RfwgxQLYpdS"
      },
      "execution_count": 37,
      "outputs": []
    },
    {
      "cell_type": "code",
      "source": [
        "# input data\n",
        "digits = load_digits()\n",
        "\n",
        "\n",
        "# dependent variable (target variable) y\n",
        "label = digits['target']\n",
        "y = label[(label==1)| (label==3)| (label==7)]\n",
        "print(f\"y: {y}\")"
      ],
      "metadata": {
        "colab": {
          "base_uri": "https://localhost:8080/"
        },
        "id": "MBSVhHiUaUtd",
        "outputId": "4cd07cd5-c419-445a-fcfd-911000b91c86"
      },
      "execution_count": 38,
      "outputs": [
        {
          "output_type": "stream",
          "name": "stdout",
          "text": [
            "y: [1 3 7 1 3 7 1 3 7 1 7 7 3 1 7 1 3 3 7 3 3 1 1 7 3 1 7 3 1 3 1 7 3 1 3 1 7\n",
            " 7 7 1 3 7 1 3 7 1 3 7 1 7 7 3 1 7 1 3 3 7 3 3 1 1 7 3 1 7 3 1 3 1 7 3 1 3\n",
            " 1 7 7 1 3 7 1 3 7 1 3 7 1 7 7 3 1 7 1 3 3 7 3 3 1 1 7 3 1 7 3 1 3 1 7 3 1\n",
            " 3 1 7 7 7 3 1 3 7 1 3 7 1 3 7 1 7 7 3 1 7 1 3 3 7 3 3 1 1 7 3 1 7 3 1 3 1\n",
            " 7 3 1 3 1 7 7 7 1 3 7 1 3 7 1 3 7 1 7 7 3 1 7 1 3 3 7 3 3 1 1 7 3 1 7 3 1\n",
            " 3 1 7 3 1 3 1 7 7 7 1 3 7 1 3 7 1 3 7 1 7 7 3 1 7 1 3 3 7 3 3 1 1 7 3 1 7\n",
            " 3 1 3 1 7 3 1 3 1 7 7 7 1 3 7 1 3 7 1 3 7 1 7 7 3 1 7 1 3 3 7 3 3 1 1 7 3\n",
            " 1 7 3 1 3 1 7 3 1 3 1 7 7 7 1 3 7 1 3 7 1 3 7 1 7 7 3 1 7 1 3 3 7 3 3 1 1\n",
            " 7 3 1 3 1 3 1 7 3 1 3 1 7 7 7 1 3 7 1 3 7 1 3 7 1 7 7 3 1 7 1 3 3 7 3 3 1\n",
            " 1 7 3 1 7 3 1 3 1 7 3 1 3 1 7 7 7 1 3 7 1 3 7 1 3 7 1 7 7 3 1 7 1 3 3 7 3\n",
            " 3 1 1 7 3 1 7 3 1 3 1 7 3 1 3 1 7 7 7 1 3 7 1 3 7 1 3 7 1 7 7 3 1 7 1 3 3\n",
            " 7 3 3 1 1 7 3 1 7 3 1 3 1 7 3 1 3 1 7 7 7 1 3 7 1 3 7 1 3 7 1 7 7 3 1 7 1\n",
            " 3 3 7 3 3 1 1 7 3 1 7 3 1 3 1 7 3 1 3 1 7 7 7 1 3 7 1 3 1 3 7 1 7 7 3 1 7\n",
            " 1 3 3 7 3 3 1 1 7 3 1 7 3 1 3 1 7 3 1 3 1 7 7 7 1 3 7 1 3 7 1 3 7 1 7 7 3\n",
            " 1 7 1 3 3 7 3 3 1 1 7 3 1 7 3 1 3 1 7 3 1 3 1 7 7 7]\n"
          ]
        }
      ]
    },
    {
      "cell_type": "code",
      "source": [
        "# independent variable (features) X\n",
        "X = digits['images']\n",
        "X = X[(label==1)| (label==3)| (label==7)]\n",
        "\n",
        "# shape from numpy gives tuple of the data size\n",
        "print(X.shape)\n",
        "\n"
      ],
      "metadata": {
        "colab": {
          "base_uri": "https://localhost:8080/"
        },
        "id": "7B3CiGX6fpU2",
        "outputId": "ca964ab8-dd08-495e-9d0d-89b6491ea63e"
      },
      "execution_count": 39,
      "outputs": [
        {
          "output_type": "stream",
          "name": "stdout",
          "text": [
            "(544, 8, 8)\n"
          ]
        }
      ]
    },
    {
      "cell_type": "markdown",
      "source": [
        "## Examples of features and labels\n",
        "handwritten charactors of 1, 3, 7"
      ],
      "metadata": {
        "id": "yRjdKm06KYpg"
      }
    },
    {
      "cell_type": "code",
      "source": [
        "selected_labels =[1,3,7]\n",
        "\n",
        "fig, axes = plt.subplots(1, len(selected_labels), figsize=(10,5))\n",
        "for i, each_label in enumerate(selected_labels):\n",
        "  index = np.where(y == each_label)[0][0]\n",
        "  image = X[index]\n",
        "\n",
        "  ax = axes[i]\n",
        "  ax.imshow(image, cmap =plt.cm.gray_r, interpolation='nearest')\n",
        "  ax.set_title(f'Label: {each_label}')\n",
        "  ax.axis('off')\n",
        "\n",
        "plt.show()"
      ],
      "metadata": {
        "colab": {
          "base_uri": "https://localhost:8080/",
          "height": 287
        },
        "id": "xmOqiBBtIPvh",
        "outputId": "74054d0f-334c-485e-e3e4-0753f22154d6"
      },
      "execution_count": 44,
      "outputs": [
        {
          "output_type": "display_data",
          "data": {
            "text/plain": [
              "<Figure size 1000x500 with 3 Axes>"
            ],
            "image/png": "[encoded data removed]"
          },
          "metadata": {}
        }
      ]
    },
    {
      "cell_type": "code",
      "source": [
        "# Reshape the data from (544, 8, 8) to (544, 64) so that you can treat it as vectors.\n",
        "X = X.reshape(X.shape[0], X.shape[1]*X.shape[2])\n",
        "print(X.shape)"
      ],
      "metadata": {
        "colab": {
          "base_uri": "https://localhost:8080/"
        },
        "id": "lYCQBsE2IM_e",
        "outputId": "7d584db2-fc6c-45be-eb4c-e9b60cd769b0"
      },
      "execution_count": 35,
      "outputs": [
        {
          "output_type": "stream",
          "name": "stdout",
          "text": [
            "(544, 64)\n"
          ]
        }
      ]
    },
    {
      "cell_type": "code",
      "source": [
        "# Standard the features X\n",
        "\n",
        "scaler = StandardScaler() # Create an Instance\n",
        "\n",
        "scaler.fit(X) # The mean and standard deviation for each features in X are calculated and stored in the 'scaler' instance\n",
        "\n",
        "X_scaled = scaler.transform(X) #Apply teh standardization transformation using mean and standard deviation in 'scale'\n",
        "\n",
        "print(X)\n",
        "print(X_scaled)"
      ],
      "metadata": {
        "id": "gi8rOTV9gNWW",
        "colab": {
          "base_uri": "https://localhost:8080/"
        },
        "outputId": "1b267827-0401-4a63-fd38-3a0e4febcd78"
      },
      "execution_count": 14,
      "outputs": [
        {
          "output_type": "stream",
          "name": "stdout",
          "text": [
            "[[ 0.  0.  0. ... 10.  0.  0.]\n",
            " [ 0.  0.  7. ...  9.  0.  0.]\n",
            " [ 0.  0.  7. ...  0.  0.  0.]\n",
            " ...\n",
            " [ 0.  0.  6. ...  0.  0.  0.]\n",
            " [ 0.  0.  3. ...  0.  0.  0.]\n",
            " [ 0.  1. 10. ...  0.  0.  0.]]\n",
            "[[ 0.         -0.34845297 -1.2147425  ...  0.70034066 -0.40362717\n",
            "  -0.21353118]\n",
            " [ 0.         -0.34845297  0.38309496 ...  0.53397152 -0.40362717\n",
            "  -0.21353118]\n",
            " [ 0.         -0.34845297  0.38309496 ... -0.96335068 -0.40362717\n",
            "  -0.21353118]\n",
            " ...\n",
            " [ 0.         -0.34845297  0.15483246 ... -0.96335068 -0.40362717\n",
            "  -0.21353118]\n",
            " [ 0.         -0.34845297 -0.52995502 ... -0.96335068 -0.40362717\n",
            "  -0.21353118]\n",
            " [ 0.          0.91526981  1.06788244 ... -0.96335068 -0.40362717\n",
            "  -0.21353118]]\n"
          ]
        }
      ]
    },
    {
      "cell_type": "code",
      "source": [
        "# Split the dataset into training data and test data in an 80 : 20 ratio\n",
        "X_train, X_test, y_train, y_test = train_test_split(X, y, test_size = 0.2, random_state = 42)\n",
        "print(y_train)\n",
        "\n",
        "# Create \"Multinomial (3 classes in this case) Logistic Regression\"\n",
        "# Note that the fitting function is linear about the weights (3 weights) even though it's not linear about x0, x1, ... xn\n",
        "classifier = LogisticRegression(fit_intercept = True, max_iter=1500) # Didn't work with the default iteration number: 1000\n",
        "\n",
        "# Fitting\n",
        "classifier.fit(X_train, y_train)\n",
        "\n",
        "# Evaluate teh predictions on the test data\n",
        "y_predict = classifier.predict(X_test)\n",
        "\n",
        "print(classifier)"
      ],
      "metadata": {
        "colab": {
          "base_uri": "https://localhost:8080/"
        },
        "id": "4neS06ykvxrN",
        "outputId": "8428575b-1d9d-4305-d0df-fcf0f7513d82"
      },
      "execution_count": 24,
      "outputs": [
        {
          "output_type": "stream",
          "name": "stdout",
          "text": [
            "[1 3 3 7 3 3 3 3 7 7 3 3 7 1 7 3 1 7 3 7 1 7 3 3 1 7 3 3 1 1 3 7 3 1 1 3 7\n",
            " 3 7 3 7 7 1 1 7 1 7 7 7 1 7 1 3 3 7 7 1 3 3 7 7 3 3 1 3 3 1 3 1 3 3 7 7 3\n",
            " 3 1 7 3 1 1 7 3 1 1 7 1 7 1 1 3 7 1 7 7 3 3 1 7 3 1 1 7 7 3 1 3 1 7 7 7 3\n",
            " 7 3 3 7 7 1 1 1 1 1 3 1 1 1 3 3 3 3 3 3 7 3 3 7 1 1 1 7 7 7 7 1 7 1 3 3 7\n",
            " 1 1 3 7 3 3 1 1 7 3 3 1 1 7 1 3 3 3 3 7 3 1 3 1 3 3 7 1 1 3 3 1 1 7 1 1 1\n",
            " 3 7 7 3 3 3 3 7 7 3 3 3 1 1 1 1 1 3 7 1 1 7 3 3 3 7 3 7 1 7 7 1 7 7 1 1 7\n",
            " 1 1 1 1 3 1 7 1 7 7 1 3 7 3 7 7 1 1 3 3 7 7 7 3 3 3 3 1 3 7 3 3 7 1 7 7 7\n",
            " 7 1 3 1 3 1 1 7 1 3 1 7 7 3 1 1 3 1 1 7 7 7 7 7 1 7 3 1 3 1 7 7 7 3 7 3 1\n",
            " 1 3 3 1 3 7 3 1 3 7 3 3 7 1 7 1 1 3 1 7 7 1 7 7 7 1 7 1 1 1 1 7 1 3 3 7 1\n",
            " 1 3 1 1 7 7 7 3 3 1 3 3 1 7 7 1 1 3 1 7 3 1 3 3 7 1 1 7 1 3 3 1 7 1 1 7 3\n",
            " 7 3 7 7 1 3 7 1 3 1 3 1 3 1 3 7 7 1 7 3 1 3 3 7 3 7 1 1 1 7 1 7 3 1 1 7 3\n",
            " 7 7 1 7 7 3 1 1 1 3 1 3 7 1 1 1 7 1 3 3 7 3 3 3 3 7 3 1]\n",
            "LogisticRegression(max_iter=1500)\n"
          ]
        }
      ]
    },
    {
      "cell_type": "code",
      "source": [
        "# Show weight\n",
        "# There is many training data in X and each is 64-dimentional vector. You get weight vector w (w_1, w_2, ... w_64) for each three classes.\n",
        "print(f\"Weight: {classifier.coef_}\") # 64-dimensional vectors, classified into three classes.\n",
        "\n",
        "# Show intercept\n",
        "print(f\"Intercept: {classifier.intercept_}\") # Constant for each three classes."
      ],
      "metadata": {
        "colab": {
          "base_uri": "https://localhost:8080/"
        },
        "id": "HxRPKTpv8e5S",
        "outputId": "6de0f278-51ae-4c18-a171-4d5a5c240ed3"
      },
      "execution_count": 25,
      "outputs": [
        {
          "output_type": "stream",
          "name": "stdout",
          "text": [
            "Weight: [[ 0.00000000e+00 -2.13940831e-02 -7.77953868e-02 -1.05944124e-01\n",
            "  -1.47202958e-01  1.80992177e-02 -2.83767101e-02 -1.70046140e-02\n",
            "  -1.68582939e-07 -9.26510620e-02 -1.44832655e-01  2.99269227e-02\n",
            "   2.15203049e-02 -4.24691669e-02 -4.09797662e-02 -1.44030314e-02\n",
            "   2.62060730e-03  1.70144635e-02  5.18823100e-02  2.66467617e-01\n",
            "   1.15567702e-01 -2.62997813e-02 -4.62569338e-02 -3.43036454e-03\n",
            "   1.31033837e-03 -6.61235397e-03  8.75689492e-04  1.11983414e-01\n",
            "   1.17034659e-03  3.77069210e-02 -2.89010234e-02  0.00000000e+00\n",
            "   0.00000000e+00  1.36370770e-02  5.42964484e-02 -1.20604197e-02\n",
            "  -5.24851329e-02 -5.20336636e-02 -6.99917991e-02  0.00000000e+00\n",
            "   0.00000000e+00 -2.68258100e-02  7.68037879e-02  7.87857404e-02\n",
            "   7.20882189e-02 -9.87052421e-02 -1.05938716e-01  0.00000000e+00\n",
            "   0.00000000e+00 -7.98032500e-03 -2.90834591e-02  1.28111019e-02\n",
            "   1.12663737e-01  4.32473693e-02 -7.21318225e-02  3.38224474e-02\n",
            "   0.00000000e+00 -1.61829407e-02 -1.31059556e-01 -5.54906214e-02\n",
            "   1.29540221e-01  1.33431115e-01  9.48353995e-02  9.52212273e-02]\n",
            " [ 0.00000000e+00  1.94814874e-02  7.46859293e-02  9.04694354e-02\n",
            "   1.48321508e-01 -1.08288487e-02 -3.48080740e-02 -5.55670803e-03\n",
            "   3.14025108e-07  1.84904716e-02  9.55220444e-02 -3.02978593e-02\n",
            "  -4.43235086e-02  1.06168658e-01  2.08110471e-02  3.28016844e-03\n",
            "  -9.40703173e-05  1.47476043e-02 -6.96612436e-02 -1.31268130e-01\n",
            "  -1.31122445e-02 -3.52712315e-02 -5.18287817e-02 -1.05993934e-04\n",
            "  -4.71073214e-05  2.18255638e-02 -5.31557910e-02 -7.83945560e-03\n",
            "   3.36960835e-02 -1.51797962e-01 -8.60759385e-02  0.00000000e+00\n",
            "   0.00000000e+00 -4.64854893e-02 -9.51648711e-02 -3.07056946e-02\n",
            "  -3.31363272e-02 -9.74515417e-02 -3.10348875e-02  0.00000000e+00\n",
            "   0.00000000e+00 -4.38880199e-02 -9.12726942e-02 -1.54853009e-01\n",
            "  -8.33439694e-02  1.25981317e-01  1.30717609e-01  0.00000000e+00\n",
            "   0.00000000e+00 -5.19615703e-03  2.88711153e-02 -4.08562057e-02\n",
            "   7.87556150e-02  1.49858475e-01  1.29167647e-01 -3.38143277e-02\n",
            "   0.00000000e+00  1.72964218e-02  1.55926804e-01  1.39378142e-01\n",
            "   5.54201143e-02  2.28984933e-03 -4.97109559e-02 -9.45658905e-02]\n",
            " [ 0.00000000e+00  1.91259574e-03  3.10945744e-03  1.54746885e-02\n",
            "  -1.11854992e-03 -7.27036907e-03  6.31847841e-02  2.25613221e-02\n",
            "  -1.45442170e-07  7.41605904e-02  4.93106103e-02  3.70936546e-04\n",
            "   2.28032037e-02 -6.36994908e-02  2.01687190e-02  1.11228630e-02\n",
            "  -2.52653698e-03 -3.17620678e-02  1.77789336e-02 -1.35199488e-01\n",
            "  -1.02455458e-01  6.15710129e-02  9.80857155e-02  3.53635847e-03\n",
            "  -1.26323105e-03 -1.52132098e-02  5.22801016e-02 -1.04143959e-01\n",
            "  -3.48664301e-02  1.14091041e-01  1.14976962e-01  0.00000000e+00\n",
            "   0.00000000e+00  3.28484123e-02  4.08684227e-02  4.27661143e-02\n",
            "   8.56214600e-02  1.49485205e-01  1.01026687e-01  0.00000000e+00\n",
            "   0.00000000e+00  7.07138300e-02  1.44689063e-02  7.60672683e-02\n",
            "   1.12557505e-02 -2.72760747e-02 -2.47788927e-02  0.00000000e+00\n",
            "   0.00000000e+00  1.31764820e-02  2.12343726e-04  2.80451038e-02\n",
            "  -1.91419352e-01 -1.93105844e-01 -5.70358241e-02 -8.11969047e-06\n",
            "   0.00000000e+00 -1.11348110e-03 -2.48672479e-02 -8.38875207e-02\n",
            "  -1.84960335e-01 -1.35720964e-01 -4.51244436e-02 -6.55336812e-04]]\n",
            "Intercept: [-1.27378898 -1.71632047  2.99010946]\n"
          ]
        }
      ]
    },
    {
      "cell_type": "markdown",
      "source": [
        "## Resut\n",
        "# Cheking the training data\n",
        "Everything is classified correctly."
      ],
      "metadata": {
        "id": "Fr3v4XDRGmGm"
      }
    },
    {
      "cell_type": "code",
      "source": [
        "from sklearn.metrics import confusion_matrix, ConfusionMatrixDisplay\n",
        "\n",
        "print(classifier.predict(X_train))\n",
        "print(y_train.shape)\n",
        "cm_train = confusion_matrix(classifier.predict(X_train), y_train)\n",
        "\n",
        "cm_plot = ConfusionMatrixDisplay(cm_train, display_labels =[1,3,7])\n",
        "cm_plot.plot(cmap= plt.cm.Blues)\n",
        "plt.title('Training Data')\n",
        "plt.show()"
      ],
      "metadata": {
        "colab": {
          "base_uri": "https://localhost:8080/",
          "height": 706
        },
        "id": "bF6cF73gBDpQ",
        "outputId": "64171fa0-215d-4da5-f3b5-2b074c3df289"
      },
      "execution_count": 31,
      "outputs": [
        {
          "output_type": "stream",
          "name": "stdout",
          "text": [
            "[1 3 3 7 3 3 3 3 7 7 3 3 7 1 7 3 1 7 3 7 1 7 3 3 1 7 3 3 1 1 3 7 3 1 1 3 7\n",
            " 3 7 3 7 7 1 1 7 1 7 7 7 1 7 1 3 3 7 7 1 3 3 7 7 3 3 1 3 3 1 3 1 3 3 7 7 3\n",
            " 3 1 7 3 1 1 7 3 1 1 7 1 7 1 1 3 7 1 7 7 3 3 1 7 3 1 1 7 7 3 1 3 1 7 7 7 3\n",
            " 7 3 3 7 7 1 1 1 1 1 3 1 1 1 3 3 3 3 3 3 7 3 3 7 1 1 1 7 7 7 7 1 7 1 3 3 7\n",
            " 1 1 3 7 3 3 1 1 7 3 3 1 1 7 1 3 3 3 3 7 3 1 3 1 3 3 7 1 1 3 3 1 1 7 1 1 1\n",
            " 3 7 7 3 3 3 3 7 7 3 3 3 1 1 1 1 1 3 7 1 1 7 3 3 3 7 3 7 1 7 7 1 7 7 1 1 7\n",
            " 1 1 1 1 3 1 7 1 7 7 1 3 7 3 7 7 1 1 3 3 7 7 7 3 3 3 3 1 3 7 3 3 7 1 7 7 7\n",
            " 7 1 3 1 3 1 1 7 1 3 1 7 7 3 1 1 3 1 1 7 7 7 7 7 1 7 3 1 3 1 7 7 7 3 7 3 1\n",
            " 1 3 3 1 3 7 3 1 3 7 3 3 7 1 7 1 1 3 1 7 7 1 7 7 7 1 7 1 1 1 1 7 1 3 3 7 1\n",
            " 1 3 1 1 7 7 7 3 3 1 3 3 1 7 7 1 1 3 1 7 3 1 3 3 7 1 1 7 1 3 3 1 7 1 1 7 3\n",
            " 7 3 7 7 1 3 7 1 3 1 3 1 3 1 3 7 7 1 7 3 1 3 3 7 3 7 1 1 1 7 1 7 3 1 1 7 3\n",
            " 7 7 1 7 7 3 1 1 1 3 1 3 7 1 1 1 7 1 3 3 7 3 3 3 3 7 3 1]\n",
            "(435,)\n"
          ]
        },
        {
          "output_type": "display_data",
          "data": {
            "text/plain": [
              "<Figure size 640x480 with 2 Axes>"
            ],
            "image/png": "[encoded data removed]"
          },
          "metadata": {}
        }
      ]
    },
    {
      "cell_type": "markdown",
      "source": [
        "## Checking Test Data to see the result of machine learning\n",
        "\n",
        "Most data is classified in the correct classes but two data is classified into incorrect classes."
      ],
      "metadata": {
        "id": "Aqu95hn1G3HR"
      }
    },
    {
      "cell_type": "code",
      "source": [
        "cm_test = confusion_matrix(classifier.predict(X_test), y_test)\n",
        "\n",
        "cm_plot = ConfusionMatrixDisplay(cm_test, display_labels =[1,3,7])\n",
        "cm_plot.plot(cmap= plt.cm.Blues)\n",
        "plt.title('Test Data')\n",
        "plt.show()"
      ],
      "metadata": {
        "colab": {
          "base_uri": "https://localhost:8080/",
          "height": 472
        },
        "id": "0M4D4MmwE-Bx",
        "outputId": "b3ed95f2-d0b6-409a-ea5f-4d56734ee6f4"
      },
      "execution_count": 33,
      "outputs": [
        {
          "output_type": "display_data",
          "data": {
            "text/plain": [
              "<Figure size 640x480 with 2 Axes>"
            ],
            "image/png": "[encoded data removed]"
          },
          "metadata": {}
        }
      ]
    },
    {
      "cell_type": "code",
      "source": [],
      "metadata": {
        "id": "Ov4RkasMGTfK"
      },
      "execution_count": null,
      "outputs": []
    }
  ]
}